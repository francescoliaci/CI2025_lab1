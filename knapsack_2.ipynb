{
 "cells": [
  {
   "cell_type": "code",
   "execution_count": 1,
   "id": "34b9aa33",
   "metadata": {},
   "outputs": [],
   "source": [
    "import numpy as np\n",
    "from collections import deque\n",
    "from tqdm import trange\n",
    "from icecream import ic\n",
    "\n",
    "def cost(sol):\n",
    "    # checks each column (each item) across all knapsacks\n",
    "    # returns a boolean vector of length NUM_ITEMS, where each entry is True if that item appears in at least one knapsack\n",
    "    # and sum values of selected items\n",
    "    return VALUES[np.any(sol, axis=0)].sum()\n",
    "\n",
    "def is_feasible(weights):\n",
    "    return np.all(weights <= CONSTRAINTS)\n",
    "\n",
    "def random_solution():\n",
    "    sol = np.zeros((NUM_KNAPSACKS, NUM_ITEMS), dtype=bool)\n",
    "    total_weights = np.zeros((NUM_KNAPSACKS, NUM_DIMENSIONS))\n",
    "    for i in np.random.permutation(NUM_ITEMS):\n",
    "        k = np.random.randint(NUM_KNAPSACKS)\n",
    "        if np.all(total_weights[k] + WEIGHTS[i] <= CONSTRAINTS[k]):\n",
    "            sol[k, i] = True\n",
    "            total_weights[k] += WEIGHTS[i]\n",
    "    value = cost(sol)\n",
    "    return sol, total_weights, value\n",
    "\n",
    "def tabu_search(\n",
    "    max_iter=5000,\n",
    "    tabu_tenure=50,\n",
    "    neighborhood_size=200,\n",
    "    no_move_limit=300,\n",
    "    restart_limit=600,\n",
    "):\n",
    "    sol, total_weights, best_val = random_solution()\n",
    "    best_sol = sol.copy()\n",
    "    current_val = best_val\n",
    "    tabu_list = deque(maxlen=tabu_tenure)\n",
    "    no_move_counter = 0\n",
    "    \n",
    "    for it in trange(max_iter, desc=\"Tabu Search\"):\n",
    "        best_neighbor = None\n",
    "        best_neighbor_val = -np.inf\n",
    "        best_neighbor_weights = None\n",
    "        best_move = None\n",
    "        # generate neighborhood \n",
    "        for _ in range(neighborhood_size):\n",
    "            i = np.random.randint(NUM_ITEMS)\n",
    "            # check if item i is already assigned to a knapsack\n",
    "            old_k = np.where(sol[:, i])[0]\n",
    "            old_k = old_k[0] if len(old_k) > 0 else None\n",
    "            k = np.random.randint(-1, NUM_KNAPSACKS) # new knapsack (-1 = remove from solution)\n",
    "            if k == old_k: # skip is there is no actual change\n",
    "                continue\n",
    "            # check feasibility\n",
    "            if k != -1 and np.any(total_weights[k] + WEIGHTS[i] > CONSTRAINTS[k]):\n",
    "                continue # infeasible, skip\n",
    "            \n",
    "            move = (i, old_k, k)\n",
    "            if move in tabu_list:\n",
    "                continue # skip\n",
    "            \n",
    "            # apply move\n",
    "            new_sol = sol.copy()\n",
    "            new_weights = total_weights.copy()\n",
    "            i, old_k, k = move\n",
    "            if old_k is not None: # remove item from old knapsack\n",
    "                new_sol[old_k, i] = False\n",
    "                new_weights[old_k] -= WEIGHTS[i]\n",
    "            if k != -1: # add item to new knapsack\n",
    "                new_sol[k, i] = True\n",
    "                new_weights[k] += WEIGHTS[i]\n",
    "            # evaluate solution\n",
    "            new_val = cost(new_sol)          \n",
    "            if new_val > best_neighbor_val:\n",
    "                best_neighbor = new_sol\n",
    "                best_neighbor_val = new_val\n",
    "                best_neighbor_weights = new_weights\n",
    "                best_move = move\n",
    "\n",
    "        # if no improvement in the neighborhood\n",
    "        if best_neighbor is None:\n",
    "            no_move_counter += 1\n",
    "            # after a while, restart from another random solution\n",
    "            if no_move_counter > restart_limit:\n",
    "                sol, total_weights, current_val = random_solution()\n",
    "                tabu_list.clear()\n",
    "                tabu_tenure = max(10, tabu_tenure // 2)\n",
    "                no_move_counter = 0\n",
    "            continue\n",
    "\n",
    "        # else, apply best move\n",
    "        sol = best_neighbor\n",
    "        total_weights = best_neighbor_weights\n",
    "        current_val = best_neighbor_val\n",
    "        tabu_list.append(best_move) \n",
    "        # update best\n",
    "        if current_val > best_val:\n",
    "            best_val = current_val\n",
    "            best_sol = sol.copy()\n",
    "            no_move_counter = 0\n",
    "        else:\n",
    "            no_move_counter += 1\n",
    "\n",
    "        # dynamic tabu adjustment\n",
    "        if no_move_counter > no_move_limit:\n",
    "            tabu_tenure = max(10, tabu_tenure // 2)\n",
    "        else:\n",
    "            tabu_tenure = min(100, tabu_tenure + 1)\n",
    "\n",
    "    return best_sol, best_val\n"
   ]
  },
  {
   "cell_type": "markdown",
   "id": "8e0e0673",
   "metadata": {},
   "source": [
    "## TEST PROBLEMS"
   ]
  },
  {
   "cell_type": "code",
   "execution_count": 2,
   "id": "5595db9c",
   "metadata": {},
   "outputs": [
    {
     "name": "stdout",
     "output_type": "stream",
     "text": [
      "theoretical max: 1065\n"
     ]
    },
    {
     "name": "stderr",
     "output_type": "stream",
     "text": [
      "Tabu Search: 100%|██████████| 100/100 [00:00<00:00, 665.66it/s]\n",
      "\u001b[38;5;247mic\u001b[39m\u001b[38;5;245m|\u001b[39m\u001b[38;5;245m \u001b[39m\u001b[38;5;247mbest_sol\u001b[39m\u001b[38;5;245m.\u001b[39m\u001b[38;5;247mastype\u001b[39m\u001b[38;5;245m(\u001b[39m\u001b[38;5;32mint\u001b[39m\u001b[38;5;245m)\u001b[39m\u001b[38;5;245m:\u001b[39m\u001b[38;5;245m \u001b[39m\u001b[38;5;247marray\u001b[39m\u001b[38;5;245m(\u001b[39m\u001b[38;5;245m[\u001b[39m\u001b[38;5;245m[\u001b[39m\u001b[38;5;36m0\u001b[39m\u001b[38;5;245m,\u001b[39m\u001b[38;5;245m \u001b[39m\u001b[38;5;36m1\u001b[39m\u001b[38;5;245m,\u001b[39m\u001b[38;5;245m \u001b[39m\u001b[38;5;36m1\u001b[39m\u001b[38;5;245m,\u001b[39m\u001b[38;5;245m \u001b[39m\u001b[38;5;36m0\u001b[39m\u001b[38;5;245m,\u001b[39m\u001b[38;5;245m \u001b[39m\u001b[38;5;36m1\u001b[39m\u001b[38;5;245m,\u001b[39m\u001b[38;5;245m \u001b[39m\u001b[38;5;36m0\u001b[39m\u001b[38;5;245m,\u001b[39m\u001b[38;5;245m \u001b[39m\u001b[38;5;36m0\u001b[39m\u001b[38;5;245m,\u001b[39m\u001b[38;5;245m \u001b[39m\u001b[38;5;36m1\u001b[39m\u001b[38;5;245m,\u001b[39m\u001b[38;5;245m \u001b[39m\u001b[38;5;36m1\u001b[39m\u001b[38;5;245m,\u001b[39m\u001b[38;5;245m \u001b[39m\u001b[38;5;36m0\u001b[39m\u001b[38;5;245m,\u001b[39m\u001b[38;5;245m \u001b[39m\u001b[38;5;36m1\u001b[39m\u001b[38;5;245m,\u001b[39m\u001b[38;5;245m \u001b[39m\u001b[38;5;36m1\u001b[39m\u001b[38;5;245m,\u001b[39m\u001b[38;5;245m \u001b[39m\u001b[38;5;36m0\u001b[39m\u001b[38;5;245m,\u001b[39m\u001b[38;5;245m \u001b[39m\u001b[38;5;36m0\u001b[39m\u001b[38;5;245m,\u001b[39m\u001b[38;5;245m \u001b[39m\u001b[38;5;36m1\u001b[39m\u001b[38;5;245m,\u001b[39m\u001b[38;5;245m \u001b[39m\u001b[38;5;36m0\u001b[39m\u001b[38;5;245m,\u001b[39m\u001b[38;5;245m \u001b[39m\u001b[38;5;36m0\u001b[39m\u001b[38;5;245m,\u001b[39m\u001b[38;5;245m \u001b[39m\u001b[38;5;36m1\u001b[39m\u001b[38;5;245m,\u001b[39m\u001b[38;5;245m \u001b[39m\u001b[38;5;36m1\u001b[39m\u001b[38;5;245m,\u001b[39m\u001b[38;5;245m \u001b[39m\u001b[38;5;36m0\u001b[39m\u001b[38;5;245m]\u001b[39m\u001b[38;5;245m,\u001b[39m\n",
      "\u001b[38;5;245m                                 \u001b[39m\u001b[38;5;245m[\u001b[39m\u001b[38;5;36m0\u001b[39m\u001b[38;5;245m,\u001b[39m\u001b[38;5;245m \u001b[39m\u001b[38;5;36m0\u001b[39m\u001b[38;5;245m,\u001b[39m\u001b[38;5;245m \u001b[39m\u001b[38;5;36m0\u001b[39m\u001b[38;5;245m,\u001b[39m\u001b[38;5;245m \u001b[39m\u001b[38;5;36m0\u001b[39m\u001b[38;5;245m,\u001b[39m\u001b[38;5;245m \u001b[39m\u001b[38;5;36m0\u001b[39m\u001b[38;5;245m,\u001b[39m\u001b[38;5;245m \u001b[39m\u001b[38;5;36m0\u001b[39m\u001b[38;5;245m,\u001b[39m\u001b[38;5;245m \u001b[39m\u001b[38;5;36m1\u001b[39m\u001b[38;5;245m,\u001b[39m\u001b[38;5;245m \u001b[39m\u001b[38;5;36m0\u001b[39m\u001b[38;5;245m,\u001b[39m\u001b[38;5;245m \u001b[39m\u001b[38;5;36m0\u001b[39m\u001b[38;5;245m,\u001b[39m\u001b[38;5;245m \u001b[39m\u001b[38;5;36m1\u001b[39m\u001b[38;5;245m,\u001b[39m\u001b[38;5;245m \u001b[39m\u001b[38;5;36m0\u001b[39m\u001b[38;5;245m,\u001b[39m\u001b[38;5;245m \u001b[39m\u001b[38;5;36m0\u001b[39m\u001b[38;5;245m,\u001b[39m\u001b[38;5;245m \u001b[39m\u001b[38;5;36m1\u001b[39m\u001b[38;5;245m,\u001b[39m\u001b[38;5;245m \u001b[39m\u001b[38;5;36m1\u001b[39m\u001b[38;5;245m,\u001b[39m\u001b[38;5;245m \u001b[39m\u001b[38;5;36m0\u001b[39m\u001b[38;5;245m,\u001b[39m\u001b[38;5;245m \u001b[39m\u001b[38;5;36m0\u001b[39m\u001b[38;5;245m,\u001b[39m\u001b[38;5;245m \u001b[39m\u001b[38;5;36m0\u001b[39m\u001b[38;5;245m,\u001b[39m\u001b[38;5;245m \u001b[39m\u001b[38;5;36m0\u001b[39m\u001b[38;5;245m,\u001b[39m\u001b[38;5;245m \u001b[39m\u001b[38;5;36m0\u001b[39m\u001b[38;5;245m,\u001b[39m\u001b[38;5;245m \u001b[39m\u001b[38;5;36m1\u001b[39m\u001b[38;5;245m]\u001b[39m\u001b[38;5;245m,\u001b[39m\n",
      "\u001b[38;5;245m                                 \u001b[39m\u001b[38;5;245m[\u001b[39m\u001b[38;5;36m1\u001b[39m\u001b[38;5;245m,\u001b[39m\u001b[38;5;245m \u001b[39m\u001b[38;5;36m0\u001b[39m\u001b[38;5;245m,\u001b[39m\u001b[38;5;245m \u001b[39m\u001b[38;5;36m0\u001b[39m\u001b[38;5;245m,\u001b[39m\u001b[38;5;245m \u001b[39m\u001b[38;5;36m1\u001b[39m\u001b[38;5;245m,\u001b[39m\u001b[38;5;245m \u001b[39m\u001b[38;5;36m0\u001b[39m\u001b[38;5;245m,\u001b[39m\u001b[38;5;245m \u001b[39m\u001b[38;5;36m1\u001b[39m\u001b[38;5;245m,\u001b[39m\u001b[38;5;245m \u001b[39m\u001b[38;5;36m0\u001b[39m\u001b[38;5;245m,\u001b[39m\u001b[38;5;245m \u001b[39m\u001b[38;5;36m0\u001b[39m\u001b[38;5;245m,\u001b[39m\u001b[38;5;245m \u001b[39m\u001b[38;5;36m0\u001b[39m\u001b[38;5;245m,\u001b[39m\u001b[38;5;245m \u001b[39m\u001b[38;5;36m0\u001b[39m\u001b[38;5;245m,\u001b[39m\u001b[38;5;245m \u001b[39m\u001b[38;5;36m0\u001b[39m\u001b[38;5;245m,\u001b[39m\u001b[38;5;245m \u001b[39m\u001b[38;5;36m0\u001b[39m\u001b[38;5;245m,\u001b[39m\u001b[38;5;245m \u001b[39m\u001b[38;5;36m0\u001b[39m\u001b[38;5;245m,\u001b[39m\u001b[38;5;245m \u001b[39m\u001b[38;5;36m0\u001b[39m\u001b[38;5;245m,\u001b[39m\u001b[38;5;245m \u001b[39m\u001b[38;5;36m0\u001b[39m\u001b[38;5;245m,\u001b[39m\u001b[38;5;245m \u001b[39m\u001b[38;5;36m1\u001b[39m\u001b[38;5;245m,\u001b[39m\u001b[38;5;245m \u001b[39m\u001b[38;5;36m1\u001b[39m\u001b[38;5;245m,\u001b[39m\u001b[38;5;245m \u001b[39m\u001b[38;5;36m0\u001b[39m\u001b[38;5;245m,\u001b[39m\u001b[38;5;245m \u001b[39m\u001b[38;5;36m0\u001b[39m\u001b[38;5;245m,\u001b[39m\u001b[38;5;245m \u001b[39m\u001b[38;5;36m0\u001b[39m\u001b[38;5;245m]\u001b[39m\u001b[38;5;245m]\u001b[39m\u001b[38;5;245m)\u001b[39m\n",
      "\u001b[38;5;247mic\u001b[39m\u001b[38;5;245m|\u001b[39m\u001b[38;5;245m \u001b[39m\u001b[38;5;247mbest_val\u001b[39m\u001b[38;5;245m:\u001b[39m\u001b[38;5;245m \u001b[39m\u001b[38;5;36m1065\u001b[39m\n"
     ]
    },
    {
     "data": {
      "text/plain": [
       "1065"
      ]
     },
     "execution_count": 2,
     "metadata": {},
     "output_type": "execute_result"
    }
   ],
   "source": [
    "# Problem 1:\n",
    "rng = np.random.default_rng(seed=42)\n",
    "NUM_KNAPSACKS = 3\n",
    "NUM_ITEMS = 20\n",
    "NUM_DIMENSIONS = 2\n",
    "VALUES = rng.integers(0, 100, size=NUM_ITEMS)\n",
    "max_theoretical = VALUES.sum()\n",
    "print(\"theoretical max:\", max_theoretical)\n",
    "WEIGHTS = rng.integers(0, 100, size=(NUM_ITEMS, NUM_DIMENSIONS))\n",
    "CONSTRAINTS = rng.integers(\n",
    "    0, 100 * NUM_ITEMS // NUM_KNAPSACKS, size=(NUM_KNAPSACKS, NUM_DIMENSIONS)\n",
    ")\n",
    "\n",
    "# ---------- Run ---------- #\n",
    "best_sol, best_val = tabu_search(max_iter=100)\n",
    "ic(best_sol.astype(int))\n",
    "ic(best_val)"
   ]
  },
  {
   "cell_type": "code",
   "execution_count": 3,
   "id": "9eed08a0",
   "metadata": {},
   "outputs": [
    {
     "name": "stdout",
     "output_type": "stream",
     "text": [
      "theoretical max: 52620\n"
     ]
    },
    {
     "name": "stderr",
     "output_type": "stream",
     "text": [
      "Tabu Search: 100%|██████████| 5000/5000 [00:06<00:00, 777.74it/s]\n",
      "\u001b[38;5;247mic\u001b[39m\u001b[38;5;245m|\u001b[39m\u001b[38;5;245m \u001b[39m\u001b[38;5;247mbest_val\u001b[39m\u001b[38;5;245m:\u001b[39m\u001b[38;5;245m \u001b[39m\u001b[38;5;36m50768\u001b[39m\n"
     ]
    },
    {
     "data": {
      "text/plain": [
       "50768"
      ]
     },
     "execution_count": 3,
     "metadata": {},
     "output_type": "execute_result"
    }
   ],
   "source": [
    "# Problem 2:\n",
    "rng = np.random.default_rng(seed=42)\n",
    "NUM_KNAPSACKS = 10\n",
    "NUM_ITEMS = 100\n",
    "NUM_DIMENSIONS = 10\n",
    "VALUES = rng.integers(0, 1000, size=NUM_ITEMS)\n",
    "max_theoretical = VALUES.sum()\n",
    "print(\"theoretical max:\", max_theoretical)\n",
    "WEIGHTS = rng.integers(0, 1000, size=(NUM_ITEMS, NUM_DIMENSIONS))\n",
    "CONSTRAINTS = rng.integers(\n",
    "    1000 * 2, 1000 * NUM_ITEMS // NUM_KNAPSACKS, size=(NUM_KNAPSACKS, NUM_DIMENSIONS)\n",
    ")\n",
    "\n",
    "# ---------- Run ---------- #\n",
    "best_sol, best_val = tabu_search(max_iter=5000)\n",
    "# ic(best_sol.astype(int))\n",
    "ic(best_val)"
   ]
  },
  {
   "cell_type": "code",
   "execution_count": 17,
   "id": "117380d6",
   "metadata": {},
   "outputs": [
    {
     "name": "stdout",
     "output_type": "stream",
     "text": [
      "theoretical max (without constraints): 2490698\n"
     ]
    },
    {
     "name": "stderr",
     "output_type": "stream",
     "text": [
      "Tabu Search: 100%|██████████| 50000/50000 [01:16<00:00, 650.92it/s]\n",
      "\u001b[38;5;247mic\u001b[39m\u001b[38;5;245m|\u001b[39m\u001b[38;5;245m \u001b[39m\u001b[38;5;247mbest_sol\u001b[39m\u001b[38;5;245m.\u001b[39m\u001b[38;5;247mastype\u001b[39m\u001b[38;5;245m(\u001b[39m\u001b[38;5;32mint\u001b[39m\u001b[38;5;245m)\u001b[39m\u001b[38;5;245m:\u001b[39m\u001b[38;5;245m \u001b[39m\u001b[38;5;247marray\u001b[39m\u001b[38;5;245m(\u001b[39m\u001b[38;5;245m[\u001b[39m\u001b[38;5;245m[\u001b[39m\u001b[38;5;36m0\u001b[39m\u001b[38;5;245m,\u001b[39m\u001b[38;5;245m \u001b[39m\u001b[38;5;36m0\u001b[39m\u001b[38;5;245m,\u001b[39m\u001b[38;5;245m \u001b[39m\u001b[38;5;36m0\u001b[39m\u001b[38;5;245m,\u001b[39m\u001b[38;5;245m \u001b[39m\u001b[38;5;245m.\u001b[39m\u001b[38;5;245m.\u001b[39m\u001b[38;5;245m.\u001b[39m\u001b[38;5;245m,\u001b[39m\u001b[38;5;245m \u001b[39m\u001b[38;5;36m0\u001b[39m\u001b[38;5;245m,\u001b[39m\u001b[38;5;245m \u001b[39m\u001b[38;5;36m0\u001b[39m\u001b[38;5;245m,\u001b[39m\u001b[38;5;245m \u001b[39m\u001b[38;5;36m0\u001b[39m\u001b[38;5;245m]\u001b[39m\u001b[38;5;245m,\u001b[39m\n",
      "\u001b[38;5;245m                                 \u001b[39m\u001b[38;5;245m[\u001b[39m\u001b[38;5;36m0\u001b[39m\u001b[38;5;245m,\u001b[39m\u001b[38;5;245m \u001b[39m\u001b[38;5;36m0\u001b[39m\u001b[38;5;245m,\u001b[39m\u001b[38;5;245m \u001b[39m\u001b[38;5;36m0\u001b[39m\u001b[38;5;245m,\u001b[39m\u001b[38;5;245m \u001b[39m\u001b[38;5;245m.\u001b[39m\u001b[38;5;245m.\u001b[39m\u001b[38;5;245m.\u001b[39m\u001b[38;5;245m,\u001b[39m\u001b[38;5;245m \u001b[39m\u001b[38;5;36m0\u001b[39m\u001b[38;5;245m,\u001b[39m\u001b[38;5;245m \u001b[39m\u001b[38;5;36m0\u001b[39m\u001b[38;5;245m,\u001b[39m\u001b[38;5;245m \u001b[39m\u001b[38;5;36m0\u001b[39m\u001b[38;5;245m]\u001b[39m\u001b[38;5;245m,\u001b[39m\n",
      "\u001b[38;5;245m                                 \u001b[39m\u001b[38;5;245m[\u001b[39m\u001b[38;5;36m0\u001b[39m\u001b[38;5;245m,\u001b[39m\u001b[38;5;245m \u001b[39m\u001b[38;5;36m0\u001b[39m\u001b[38;5;245m,\u001b[39m\u001b[38;5;245m \u001b[39m\u001b[38;5;36m0\u001b[39m\u001b[38;5;245m,\u001b[39m\u001b[38;5;245m \u001b[39m\u001b[38;5;245m.\u001b[39m\u001b[38;5;245m.\u001b[39m\u001b[38;5;245m.\u001b[39m\u001b[38;5;245m,\u001b[39m\u001b[38;5;245m \u001b[39m\u001b[38;5;36m0\u001b[39m\u001b[38;5;245m,\u001b[39m\u001b[38;5;245m \u001b[39m\u001b[38;5;36m0\u001b[39m\u001b[38;5;245m,\u001b[39m\u001b[38;5;245m \u001b[39m\u001b[38;5;36m0\u001b[39m\u001b[38;5;245m]\u001b[39m\u001b[38;5;245m,\u001b[39m\n",
      "\u001b[38;5;245m                                 \u001b[39m\u001b[38;5;245m.\u001b[39m\u001b[38;5;245m.\u001b[39m\u001b[38;5;245m.\u001b[39m\u001b[38;5;245m,\u001b[39m\n",
      "\u001b[38;5;245m                                 \u001b[39m\u001b[38;5;245m[\u001b[39m\u001b[38;5;36m0\u001b[39m\u001b[38;5;245m,\u001b[39m\u001b[38;5;245m \u001b[39m\u001b[38;5;36m0\u001b[39m\u001b[38;5;245m,\u001b[39m\u001b[38;5;245m \u001b[39m\u001b[38;5;36m0\u001b[39m\u001b[38;5;245m,\u001b[39m\u001b[38;5;245m \u001b[39m\u001b[38;5;245m.\u001b[39m\u001b[38;5;245m.\u001b[39m\u001b[38;5;245m.\u001b[39m\u001b[38;5;245m,\u001b[39m\u001b[38;5;245m \u001b[39m\u001b[38;5;36m0\u001b[39m\u001b[38;5;245m,\u001b[39m\u001b[38;5;245m \u001b[39m\u001b[38;5;36m0\u001b[39m\u001b[38;5;245m,\u001b[39m\u001b[38;5;245m \u001b[39m\u001b[38;5;36m0\u001b[39m\u001b[38;5;245m]\u001b[39m\u001b[38;5;245m,\u001b[39m\n",
      "\u001b[38;5;245m                                 \u001b[39m\u001b[38;5;245m[\u001b[39m\u001b[38;5;36m0\u001b[39m\u001b[38;5;245m,\u001b[39m\u001b[38;5;245m \u001b[39m\u001b[38;5;36m0\u001b[39m\u001b[38;5;245m,\u001b[39m\u001b[38;5;245m \u001b[39m\u001b[38;5;36m0\u001b[39m\u001b[38;5;245m,\u001b[39m\u001b[38;5;245m \u001b[39m\u001b[38;5;245m.\u001b[39m\u001b[38;5;245m.\u001b[39m\u001b[38;5;245m.\u001b[39m\u001b[38;5;245m,\u001b[39m\u001b[38;5;245m \u001b[39m\u001b[38;5;36m0\u001b[39m\u001b[38;5;245m,\u001b[39m\u001b[38;5;245m \u001b[39m\u001b[38;5;36m0\u001b[39m\u001b[38;5;245m,\u001b[39m\u001b[38;5;245m \u001b[39m\u001b[38;5;36m0\u001b[39m\u001b[38;5;245m]\u001b[39m\u001b[38;5;245m,\u001b[39m\n",
      "\u001b[38;5;245m                                 \u001b[39m\u001b[38;5;245m[\u001b[39m\u001b[38;5;36m0\u001b[39m\u001b[38;5;245m,\u001b[39m\u001b[38;5;245m \u001b[39m\u001b[38;5;36m0\u001b[39m\u001b[38;5;245m,\u001b[39m\u001b[38;5;245m \u001b[39m\u001b[38;5;36m0\u001b[39m\u001b[38;5;245m,\u001b[39m\u001b[38;5;245m \u001b[39m\u001b[38;5;245m.\u001b[39m\u001b[38;5;245m.\u001b[39m\u001b[38;5;245m.\u001b[39m\u001b[38;5;245m,\u001b[39m\u001b[38;5;245m \u001b[39m\u001b[38;5;36m0\u001b[39m\u001b[38;5;245m,\u001b[39m\u001b[38;5;245m \u001b[39m\u001b[38;5;36m0\u001b[39m\u001b[38;5;245m,\u001b[39m\u001b[38;5;245m \u001b[39m\u001b[38;5;36m0\u001b[39m\u001b[38;5;245m]\u001b[39m\u001b[38;5;245m]\u001b[39m\u001b[38;5;245m)\u001b[39m\n",
      "\u001b[38;5;247mic\u001b[39m\u001b[38;5;245m|\u001b[39m\u001b[38;5;245m \u001b[39m\u001b[38;5;247mbest_val\u001b[39m\u001b[38;5;245m:\u001b[39m\u001b[38;5;245m \u001b[39m\u001b[38;5;36m1786794\u001b[39m\n"
     ]
    },
    {
     "data": {
      "text/plain": [
       "1786794"
      ]
     },
     "execution_count": 17,
     "metadata": {},
     "output_type": "execute_result"
    }
   ],
   "source": [
    "# Problem 3:\n",
    "rng = np.random.default_rng(seed=42)\n",
    "NUM_KNAPSACKS = 100\n",
    "NUM_ITEMS = 5000\n",
    "NUM_DIMENSIONS = 100\n",
    "VALUES = rng.integers(0, 1000, size=NUM_ITEMS)\n",
    "max_theoretical = VALUES.sum()\n",
    "print(\"theoretical max (without constraints):\", max_theoretical)\n",
    "WEIGHTS = rng.integers(0, 1000, size=(NUM_ITEMS, NUM_DIMENSIONS))\n",
    "CONSTRAINTS = rng.integers(\n",
    "    1000 * 10, 1000 * 2 * NUM_ITEMS // NUM_KNAPSACKS, size=(NUM_KNAPSACKS, NUM_DIMENSIONS)\n",
    ")\n",
    "\n",
    "# ---------- Run ---------- #\n",
    "best_sol, best_val = tabu_search(max_iter=50_000)\n",
    "ic(best_sol.astype(int))\n",
    "ic(best_val)"
   ]
  }
 ],
 "metadata": {
  "kernelspec": {
   "display_name": "base",
   "language": "python",
   "name": "python3"
  },
  "language_info": {
   "codemirror_mode": {
    "name": "ipython",
    "version": 3
   },
   "file_extension": ".py",
   "mimetype": "text/x-python",
   "name": "python",
   "nbconvert_exporter": "python",
   "pygments_lexer": "ipython3",
   "version": "3.12.7"
  }
 },
 "nbformat": 4,
 "nbformat_minor": 5
}
