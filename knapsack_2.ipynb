{
 "cells": [
  {
   "cell_type": "code",
   "execution_count": 3,
   "id": "c0882a9f",
   "metadata": {},
   "outputs": [],
   "source": [
    "import numpy as np"
   ]
  },
  {
   "cell_type": "code",
   "execution_count": 4,
   "id": "3adb670e",
   "metadata": {},
   "outputs": [],
   "source": [
    "NUM_KNAPSACKS = 3\n",
    "NUM_ITEMS = 10 \n",
    "NUM_DIMENSIONS = 2 "
   ]
  },
  {
   "cell_type": "code",
   "execution_count": 5,
   "id": "2db51e99",
   "metadata": {},
   "outputs": [],
   "source": [
    "VALUES = np.random.randint(0, 100, size=NUM_ITEMS)\n",
    "WEIGHTS = np.random.randint(0, 100, size=(NUM_ITEMS, NUM_DIMENSIONS))\n",
    "CONSTRAINTS = np.random.randint(\n",
    "    0, 100 * NUM_ITEMS // NUM_KNAPSACKS, size=(NUM_KNAPSACKS, NUM_DIMENSIONS)\n",
    ")"
   ]
  },
  {
   "cell_type": "code",
   "execution_count": 6,
   "id": "2abb812d",
   "metadata": {},
   "outputs": [
    {
     "data": {
      "text/plain": [
       "array([[176, 193],\n",
       "       [297,  20],\n",
       "       [ 14, 125]])"
      ]
     },
     "execution_count": 6,
     "metadata": {},
     "output_type": "execute_result"
    }
   ],
   "source": [
    "CONSTRAINTS"
   ]
  },
  {
   "cell_type": "code",
   "execution_count": 7,
   "id": "34b9aa33",
   "metadata": {},
   "outputs": [],
   "source": [
    "import numpy as np\n",
    "from icecream import ic\n",
    "from tqdm import trange  \n",
    "\n",
    "def cost(solution):\n",
    "    # checks each column (each item) across all knapsacks\n",
    "    # returns a boolean vector of length NUM_ITEMS, where each entry is True if that item appears in at least one knapsack\n",
    "    return VALUES[np.any(solution, axis=0)].sum()\n",
    "\n",
    "def is_feasible(total_weights):\n",
    "    return not np.any(total_weights > CONSTRAINTS)\n",
    "\n",
    "def random_solution():\n",
    "    # in this approach we are maintaining incremental weights \n",
    "    sol = np.zeros((NUM_KNAPSACKS, NUM_ITEMS), dtype=bool)\n",
    "    total_weights = np.zeros((NUM_KNAPSACKS, NUM_DIMENSIONS))\n",
    "    items = np.random.permutation(NUM_ITEMS)\n",
    "    for i in items:\n",
    "        k = np.random.randint(NUM_KNAPSACKS)\n",
    "        if np.all(total_weights[k] + WEIGHTS[i] <= CONSTRAINTS):\n",
    "            sol[k, i] = True # add item to solution\n",
    "            total_weights[k] += WEIGHTS[i]\n",
    "    return sol, total_weights\n",
    "\n",
    "# old_knapsack to remove from, new_knapsack to assign an item\n",
    "def update_weights(total_weights, item_idx, old_k, new_k):\n",
    "    if old_k is not None:\n",
    "        total_weights[old_k] -= WEIGHTS[item_idx]\n",
    "    if new_k is not None:\n",
    "        total_weights[new_k] += WEIGHTS[item_idx]\n",
    "\n",
    "def get_neighbors(sample_size=20):\n",
    "    items = np.random.choice(NUM_ITEMS, size=sample_size, replace=False) # distinct random items\n",
    "    knapsacks = np.random.randint(0, NUM_KNAPSACKS, size=sample_size)\n",
    "    return list(zip(items, knapsacks))\n",
    "\n",
    "def hill_climbing(max_iter=300, neighbor_sample=200):\n",
    "    sol, total_weights = random_solution()\n",
    "    best_val = cost(sol)\n",
    "    best_sol = sol.copy()\n",
    "    best_weights = total_weights.copy()\n",
    "\n",
    "    for it in trange(max_iter, desc=\"Hill Climbing\"):\n",
    "        neighbors = get_neighbors(sample_size=neighbor_sample)\n",
    "        for i, k in neighbors:\n",
    "            # find current knapsack of item i (if any)\n",
    "            old_k = np.where(sol[:, i])[0]\n",
    "            old_k = old_k[0] if len(old_k) > 0 else None\n",
    "            # skip if theres is no actual change\n",
    "            if old_k == k:\n",
    "                continue\n",
    "            # else try moving from old_knapsack to k\n",
    "            update_weights(total_weights, i, old_k, k)\n",
    "            feasible = is_feasible(total_weights)\n",
    "            if feasible:\n",
    "                # apply move\n",
    "                if old_k is not None:\n",
    "                    sol[old_k, i] = False\n",
    "                sol[k, i] = True\n",
    "                new_val = cost(sol)\n",
    "                if new_val > best_val:\n",
    "                    best_val = new_val\n",
    "                    best_sol = sol.copy()\n",
    "                    best_weights = total_weights.copy()\n",
    "                else: # rollback\n",
    "                    if old_k is not None:\n",
    "                        sol[old_k, i] = True\n",
    "                    sol[k, i] = False\n",
    "                    update_weights(total_weights, i, k, old_k)\n",
    "            else:\n",
    "                # rollback weights if infeasible\n",
    "                update_weights(total_weights, i, k, old_k)\n",
    "\n",
    "    return best_sol, best_val, best_weights"
   ]
  },
  {
   "cell_type": "markdown",
   "id": "8e0e0673",
   "metadata": {},
   "source": [
    "## TEST PROBLEMS"
   ]
  },
  {
   "cell_type": "code",
   "execution_count": 22,
   "id": "5595db9c",
   "metadata": {},
   "outputs": [
    {
     "name": "stderr",
     "output_type": "stream",
     "text": [
      "Hill Climbing: 100%|██████████| 300/300 [00:00<00:00, 5902.07it/s]\n",
      "\u001b[38;5;247mic\u001b[39m\u001b[38;5;245m|\u001b[39m\u001b[38;5;245m \u001b[39m\u001b[38;5;247mbest_value\u001b[39m\u001b[38;5;245m:\u001b[39m\u001b[38;5;245m \u001b[39m\u001b[38;5;36m1000\u001b[39m\n",
      "\u001b[38;5;247mic\u001b[39m\u001b[38;5;245m|\u001b[39m\u001b[38;5;245m \u001b[39m\u001b[38;5;247mbest_solution\u001b[39m\u001b[38;5;245m.\u001b[39m\u001b[38;5;247mastype\u001b[39m\u001b[38;5;245m(\u001b[39m\u001b[38;5;32mint\u001b[39m\u001b[38;5;245m)\u001b[39m\u001b[38;5;245m:\u001b[39m\u001b[38;5;245m \u001b[39m\u001b[38;5;247marray\u001b[39m\u001b[38;5;245m(\u001b[39m\u001b[38;5;245m[\u001b[39m\u001b[38;5;245m[\u001b[39m\u001b[38;5;36m1\u001b[39m\u001b[38;5;245m,\u001b[39m\u001b[38;5;245m \u001b[39m\u001b[38;5;36m1\u001b[39m\u001b[38;5;245m,\u001b[39m\u001b[38;5;245m \u001b[39m\u001b[38;5;36m0\u001b[39m\u001b[38;5;245m,\u001b[39m\u001b[38;5;245m \u001b[39m\u001b[38;5;36m1\u001b[39m\u001b[38;5;245m,\u001b[39m\u001b[38;5;245m \u001b[39m\u001b[38;5;36m1\u001b[39m\u001b[38;5;245m,\u001b[39m\u001b[38;5;245m \u001b[39m\u001b[38;5;36m1\u001b[39m\u001b[38;5;245m,\u001b[39m\u001b[38;5;245m \u001b[39m\u001b[38;5;36m0\u001b[39m\u001b[38;5;245m,\u001b[39m\u001b[38;5;245m \u001b[39m\u001b[38;5;36m1\u001b[39m\u001b[38;5;245m,\u001b[39m\u001b[38;5;245m \u001b[39m\u001b[38;5;36m1\u001b[39m\u001b[38;5;245m,\u001b[39m\u001b[38;5;245m \u001b[39m\u001b[38;5;36m0\u001b[39m\u001b[38;5;245m,\u001b[39m\u001b[38;5;245m \u001b[39m\u001b[38;5;36m0\u001b[39m\u001b[38;5;245m,\u001b[39m\u001b[38;5;245m \u001b[39m\u001b[38;5;36m0\u001b[39m\u001b[38;5;245m,\u001b[39m\u001b[38;5;245m \u001b[39m\u001b[38;5;36m0\u001b[39m\u001b[38;5;245m,\u001b[39m\u001b[38;5;245m \u001b[39m\u001b[38;5;36m0\u001b[39m\u001b[38;5;245m,\u001b[39m\u001b[38;5;245m \u001b[39m\u001b[38;5;36m0\u001b[39m\u001b[38;5;245m,\u001b[39m\u001b[38;5;245m \u001b[39m\u001b[38;5;36m0\u001b[39m\u001b[38;5;245m,\u001b[39m\u001b[38;5;245m \u001b[39m\u001b[38;5;36m1\u001b[39m\u001b[38;5;245m,\u001b[39m\u001b[38;5;245m \u001b[39m\u001b[38;5;36m0\u001b[39m\u001b[38;5;245m,\u001b[39m\u001b[38;5;245m \u001b[39m\u001b[38;5;36m0\u001b[39m\u001b[38;5;245m,\u001b[39m\u001b[38;5;245m \u001b[39m\u001b[38;5;36m1\u001b[39m\u001b[38;5;245m]\u001b[39m\u001b[38;5;245m,\u001b[39m\n",
      "\u001b[38;5;245m                                      \u001b[39m\u001b[38;5;245m[\u001b[39m\u001b[38;5;36m0\u001b[39m\u001b[38;5;245m,\u001b[39m\u001b[38;5;245m \u001b[39m\u001b[38;5;36m0\u001b[39m\u001b[38;5;245m,\u001b[39m\u001b[38;5;245m \u001b[39m\u001b[38;5;36m0\u001b[39m\u001b[38;5;245m,\u001b[39m\u001b[38;5;245m \u001b[39m\u001b[38;5;36m0\u001b[39m\u001b[38;5;245m,\u001b[39m\u001b[38;5;245m \u001b[39m\u001b[38;5;36m0\u001b[39m\u001b[38;5;245m,\u001b[39m\u001b[38;5;245m \u001b[39m\u001b[38;5;36m0\u001b[39m\u001b[38;5;245m,\u001b[39m\u001b[38;5;245m \u001b[39m\u001b[38;5;36m1\u001b[39m\u001b[38;5;245m,\u001b[39m\u001b[38;5;245m \u001b[39m\u001b[38;5;36m0\u001b[39m\u001b[38;5;245m,\u001b[39m\u001b[38;5;245m \u001b[39m\u001b[38;5;36m0\u001b[39m\u001b[38;5;245m,\u001b[39m\u001b[38;5;245m \u001b[39m\u001b[38;5;36m1\u001b[39m\u001b[38;5;245m,\u001b[39m\u001b[38;5;245m \u001b[39m\u001b[38;5;36m0\u001b[39m\u001b[38;5;245m,\u001b[39m\u001b[38;5;245m \u001b[39m\u001b[38;5;36m1\u001b[39m\u001b[38;5;245m,\u001b[39m\u001b[38;5;245m \u001b[39m\u001b[38;5;36m0\u001b[39m\u001b[38;5;245m,\u001b[39m\u001b[38;5;245m \u001b[39m\u001b[38;5;36m1\u001b[39m\u001b[38;5;245m,\u001b[39m\u001b[38;5;245m \u001b[39m\u001b[38;5;36m1\u001b[39m\u001b[38;5;245m,\u001b[39m\u001b[38;5;245m \u001b[39m\u001b[38;5;36m0\u001b[39m\u001b[38;5;245m,\u001b[39m\u001b[38;5;245m \u001b[39m\u001b[38;5;36m0\u001b[39m\u001b[38;5;245m,\u001b[39m\u001b[38;5;245m \u001b[39m\u001b[38;5;36m0\u001b[39m\u001b[38;5;245m,\u001b[39m\u001b[38;5;245m \u001b[39m\u001b[38;5;36m0\u001b[39m\u001b[38;5;245m,\u001b[39m\u001b[38;5;245m \u001b[39m\u001b[38;5;36m0\u001b[39m\u001b[38;5;245m]\u001b[39m\u001b[38;5;245m,\u001b[39m\n",
      "\u001b[38;5;245m                                      \u001b[39m\u001b[38;5;245m[\u001b[39m\u001b[38;5;36m0\u001b[39m\u001b[38;5;245m,\u001b[39m\u001b[38;5;245m \u001b[39m\u001b[38;5;36m0\u001b[39m\u001b[38;5;245m,\u001b[39m\u001b[38;5;245m \u001b[39m\u001b[38;5;36m0\u001b[39m\u001b[38;5;245m,\u001b[39m\u001b[38;5;245m \u001b[39m\u001b[38;5;36m0\u001b[39m\u001b[38;5;245m,\u001b[39m\u001b[38;5;245m \u001b[39m\u001b[38;5;36m0\u001b[39m\u001b[38;5;245m,\u001b[39m\u001b[38;5;245m \u001b[39m\u001b[38;5;36m0\u001b[39m\u001b[38;5;245m,\u001b[39m\u001b[38;5;245m \u001b[39m\u001b[38;5;36m0\u001b[39m\u001b[38;5;245m,\u001b[39m\u001b[38;5;245m \u001b[39m\u001b[38;5;36m0\u001b[39m\u001b[38;5;245m,\u001b[39m\u001b[38;5;245m \u001b[39m\u001b[38;5;36m0\u001b[39m\u001b[38;5;245m,\u001b[39m\u001b[38;5;245m \u001b[39m\u001b[38;5;36m0\u001b[39m\u001b[38;5;245m,\u001b[39m\u001b[38;5;245m \u001b[39m\u001b[38;5;36m1\u001b[39m\u001b[38;5;245m,\u001b[39m\u001b[38;5;245m \u001b[39m\u001b[38;5;36m0\u001b[39m\u001b[38;5;245m,\u001b[39m\u001b[38;5;245m \u001b[39m\u001b[38;5;36m1\u001b[39m\u001b[38;5;245m,\u001b[39m\u001b[38;5;245m \u001b[39m\u001b[38;5;36m0\u001b[39m\u001b[38;5;245m,\u001b[39m\u001b[38;5;245m \u001b[39m\u001b[38;5;36m0\u001b[39m\u001b[38;5;245m,\u001b[39m\u001b[38;5;245m \u001b[39m\u001b[38;5;36m1\u001b[39m\u001b[38;5;245m,\u001b[39m\u001b[38;5;245m \u001b[39m\u001b[38;5;36m0\u001b[39m\u001b[38;5;245m,\u001b[39m\u001b[38;5;245m \u001b[39m\u001b[38;5;36m1\u001b[39m\u001b[38;5;245m,\u001b[39m\u001b[38;5;245m \u001b[39m\u001b[38;5;36m1\u001b[39m\u001b[38;5;245m,\u001b[39m\u001b[38;5;245m \u001b[39m\u001b[38;5;36m0\u001b[39m\u001b[38;5;245m]\u001b[39m\u001b[38;5;245m]\u001b[39m\u001b[38;5;245m)\u001b[39m\n"
     ]
    },
    {
     "data": {
      "text/plain": [
       "array([[1, 1, 0, 1, 1, 1, 0, 1, 1, 0, 0, 0, 0, 0, 0, 0, 1, 0, 0, 1],\n",
       "       [0, 0, 0, 0, 0, 0, 1, 0, 0, 1, 0, 1, 0, 1, 1, 0, 0, 0, 0, 0],\n",
       "       [0, 0, 0, 0, 0, 0, 0, 0, 0, 0, 1, 0, 1, 0, 0, 1, 0, 1, 1, 0]])"
      ]
     },
     "execution_count": 22,
     "metadata": {},
     "output_type": "execute_result"
    }
   ],
   "source": [
    "# Problem 1:\n",
    "rng = np.random.default_rng(seed=42)\n",
    "NUM_KNAPSACKS = 3\n",
    "NUM_ITEMS = 20\n",
    "NUM_DIMENSIONS = 2\n",
    "VALUES = rng.integers(0, 100, size=NUM_ITEMS)\n",
    "WEIGHTS = rng.integers(0, 100, size=(NUM_ITEMS, NUM_DIMENSIONS))\n",
    "CONSTRAINTS = rng.integers(\n",
    "    0, 100 * NUM_ITEMS // NUM_KNAPSACKS, size=(NUM_KNAPSACKS, NUM_DIMENSIONS)\n",
    ")\n",
    "\n",
    "# ---------- Run ---------- #\n",
    "best_solution, best_value, best_weights = hill_climbing(neighbor_sample=10)\n",
    "ic(best_value)\n",
    "ic(best_solution.astype(int))"
   ]
  },
  {
   "cell_type": "code",
   "execution_count": 27,
   "id": "9eed08a0",
   "metadata": {},
   "outputs": [
    {
     "name": "stderr",
     "output_type": "stream",
     "text": [
      "Hill Climbing: 100%|██████████| 300/300 [00:00<00:00, 1843.74it/s]\n",
      "\u001b[38;5;247mic\u001b[39m\u001b[38;5;245m|\u001b[39m\u001b[38;5;245m \u001b[39m\u001b[38;5;247mbest_value\u001b[39m\u001b[38;5;245m:\u001b[39m\u001b[38;5;245m \u001b[39m\u001b[38;5;36m31989\u001b[39m\n"
     ]
    },
    {
     "data": {
      "text/plain": [
       "31989"
      ]
     },
     "execution_count": 27,
     "metadata": {},
     "output_type": "execute_result"
    }
   ],
   "source": [
    "# Problem 2:\n",
    "rng = np.random.default_rng(seed=42)\n",
    "NUM_KNAPSACKS = 10\n",
    "NUM_ITEMS = 100\n",
    "NUM_DIMENSIONS = 10\n",
    "VALUES = rng.integers(0, 1000, size=NUM_ITEMS)\n",
    "WEIGHTS = rng.integers(0, 1000, size=(NUM_ITEMS, NUM_DIMENSIONS))\n",
    "CONSTRAINTS = rng.integers(\n",
    "    1000 * 2, 1000 * NUM_ITEMS // NUM_KNAPSACKS, size=(NUM_KNAPSACKS, NUM_DIMENSIONS)\n",
    ")\n",
    "\n",
    "# ---------- Run ---------- #\n",
    "best_solution, best_value, best_weights = hill_climbing(neighbor_sample=50)\n",
    "ic(best_value)\n",
    "# ic(best_solution.astype(int))"
   ]
  },
  {
   "cell_type": "code",
   "execution_count": 24,
   "id": "117380d6",
   "metadata": {},
   "outputs": [
    {
     "name": "stderr",
     "output_type": "stream",
     "text": [
      "Hill Climbing: 100%|██████████| 300/300 [00:05<00:00, 56.40it/s]\n",
      "\u001b[38;5;247mic\u001b[39m\u001b[38;5;245m|\u001b[39m\u001b[38;5;245m \u001b[39m\u001b[38;5;247mbest_value\u001b[39m\u001b[38;5;245m:\u001b[39m\u001b[38;5;245m \u001b[39m\u001b[38;5;36m1180091\u001b[39m\n"
     ]
    },
    {
     "data": {
      "text/plain": [
       "1180091"
      ]
     },
     "execution_count": 24,
     "metadata": {},
     "output_type": "execute_result"
    }
   ],
   "source": [
    "# Problem 3:\n",
    "rng = np.random.default_rng(seed=42)\n",
    "NUM_KNAPSACKS = 100\n",
    "NUM_ITEMS = 5000\n",
    "NUM_DIMENSIONS = 100\n",
    "VALUES = rng.integers(0, 1000, size=NUM_ITEMS)\n",
    "WEIGHTS = rng.integers(0, 1000, size=(NUM_ITEMS, NUM_DIMENSIONS))\n",
    "CONSTRAINTS = rng.integers(\n",
    "    1000 * 10, 1000 * 2 * NUM_ITEMS // NUM_KNAPSACKS, size=(NUM_KNAPSACKS, NUM_DIMENSIONS)\n",
    ")\n",
    "\n",
    "# ---------- Run ---------- #\n",
    "best_solution, best_value, best_weights = hill_climbing(neighbor_sample=1000)\n",
    "ic(best_value)\n",
    "# ic(best_solution.astype(int))"
   ]
  }
 ],
 "metadata": {
  "kernelspec": {
   "display_name": "base",
   "language": "python",
   "name": "python3"
  },
  "language_info": {
   "codemirror_mode": {
    "name": "ipython",
    "version": 3
   },
   "file_extension": ".py",
   "mimetype": "text/x-python",
   "name": "python",
   "nbconvert_exporter": "python",
   "pygments_lexer": "ipython3",
   "version": "3.12.7"
  }
 },
 "nbformat": 4,
 "nbformat_minor": 5
}
